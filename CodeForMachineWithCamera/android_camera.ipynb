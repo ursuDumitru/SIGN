{
 "cells": [
  {
   "cell_type": "code",
   "execution_count": 5,
   "id": "53f6d1c5-4b01-482d-b4fc-5b66190be156",
   "metadata": {},
   "outputs": [],
   "source": [
    "import cv2\n",
    "\n",
    "# Replace 'http://[IP_ADDRESS]:[PORT]/video' with the actual URL provided by your IP webcam app\n",
    "url = 'http://192.168.52.158:8080/video'\n",
    "\n",
    "# Open the video stream\n",
    "cap = cv2.VideoCapture(url)\n",
    "\n",
    "# Check if the camera stream is opened successfully\n",
    "if not cap.isOpened():\n",
    "    print(\"Error: Unable to open camera stream\")\n",
    "    exit()\n",
    "\n",
    "# Read and display frames from the camera stream\n",
    "while True:\n",
    "    ret, frame = cap.read()\n",
    "    if not ret:\n",
    "        print(\"Error: Failed to retrieve frame from camera stream\")\n",
    "        break\n",
    "    \n",
    "    cv2.imshow('Android Camera Feed', frame)\n",
    "    \n",
    "    # Break the loop when 'q' key is pressed\n",
    "    if cv2.waitKey(1) & 0xFF == ord('q'):\n",
    "        break\n",
    "\n",
    "# Release the video stream and close OpenCV windows\n",
    "cap.release()\n",
    "cv2.destroyAllWindows()"
   ]
  },
  {
   "cell_type": "code",
   "execution_count": null,
   "id": "21a77ba5-b343-4a7d-ad0f-d37497d7b4a7",
   "metadata": {},
   "outputs": [],
   "source": []
  }
 ],
 "metadata": {
  "kernelspec": {
   "display_name": "Python 3 (ipykernel)",
   "language": "python",
   "name": "python3"
  },
  "language_info": {
   "codemirror_mode": {
    "name": "ipython",
    "version": 3
   },
   "file_extension": ".py",
   "mimetype": "text/x-python",
   "name": "python",
   "nbconvert_exporter": "python",
   "pygments_lexer": "ipython3",
   "version": "3.10.13"
  }
 },
 "nbformat": 4,
 "nbformat_minor": 5
}
