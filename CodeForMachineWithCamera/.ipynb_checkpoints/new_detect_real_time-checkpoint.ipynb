{
 "cells": [
  {
   "cell_type": "code",
   "execution_count": null,
   "id": "924b8d92-dff5-49ba-a87e-9e5ee1690af0",
   "metadata": {},
   "outputs": [],
   "source": [
    "# imports\n",
    "import mediapipe as mp"
   ]
  },
  {
   "cell_type": "code",
   "execution_count": null,
   "id": "fef0231d-ea4e-4335-a41e-8c6b211300d7",
   "metadata": {},
   "outputs": [],
   "source": [
    "class MediaPipe:\n",
    "    MEDIAPIPE_HOLISTIC = mp.solutions.holistic\n",
    "    MEDIAPIPE_DRAWING = mp.drawing_utils\n",
    "\n",
    "    def extract_landmarks(holistic_results):\n",
    "        # TODO: train model only using hand outlines\n",
    "        # pose = np.array([[coord.x, coord.y, coord.z, coord.visibility] for coord in results.pose_landmarks]).flatten() if results.pose_landmarks else np.zeros(33*4)\n",
    "        left_hand = np.array([[coord.x, coord.y, coord.z] for coord in holistic_results.left_hand_landmarks.landmark]).flatten() if holistic_results.left_hand_landmarks else np.zeroes(21*3)\n",
    "        right_hand = np.array([[coord.x, coord.y, coord.z] for coord in holistic_results.right_hand_landmarks.landmark]).flatten() if holistic_results.right_hand_landmarks else np.zeroes(21*3)\n",
    "\n",
    "        return np.concatenate([left_hand, right_hand]) # TODO: see if this somehow affects the model\n",
    "\n",
    "    \n",
    "    def detect_landmarks(image, holistic_model):\n",
    "        image = cv2.cvtColor(image, cv2.COLOR_BGR2RGB)"
   ]
  }
 ],
 "metadata": {
  "kernelspec": {
   "display_name": "Python 3 (ipykernel)",
   "language": "python",
   "name": "python3"
  },
  "language_info": {
   "codemirror_mode": {
    "name": "ipython",
    "version": 3
   },
   "file_extension": ".py",
   "mimetype": "text/x-python",
   "name": "python",
   "nbconvert_exporter": "python",
   "pygments_lexer": "ipython3",
   "version": "3.10.13"
  }
 },
 "nbformat": 4,
 "nbformat_minor": 5
}
