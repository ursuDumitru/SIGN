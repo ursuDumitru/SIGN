{
 "cells": [
  {
   "cell_type": "code",
   "execution_count": 1,
   "metadata": {},
   "outputs": [
    {
     "name": "stderr",
     "output_type": "stream",
     "text": [
      "2024-03-26 16:58:15.809764: I tensorflow/core/util/port.cc:110] oneDNN custom operations are on. You may see slightly different numerical results due to floating-point round-off errors from different computation orders. To turn them off, set the environment variable `TF_ENABLE_ONEDNN_OPTS=0`.\n",
      "2024-03-26 16:58:15.852149: I tensorflow/core/platform/cpu_feature_guard.cc:182] This TensorFlow binary is optimized to use available CPU instructions in performance-critical operations.\n",
      "To enable the following instructions: AVX2 AVX512F AVX512_VNNI FMA, in other operations, rebuild TensorFlow with the appropriate compiler flags.\n"
     ]
    }
   ],
   "source": [
    "import numpy as np\n",
    "\n",
    "from sklearn.model_selection import train_test_split\n",
    "from keras.utils import to_categorical\n",
    "\n",
    "from keras.models import Sequential\n",
    "from keras.layers import LSTM, Dense, Dropout, Input\n",
    "from keras.callbacks import TensorBoard, ModelCheckpoint, EarlyStopping"
   ]
  },
  {
   "cell_type": "code",
   "execution_count": 2,
   "metadata": {},
   "outputs": [],
   "source": [
    "sign_labels = []\n",
    "with open('./sign_labels.csv', 'r') as file:\n",
    "    sign_labels = file.read().splitlines()\n",
    "file.close()\n",
    "\n",
    "NUM_CLASSES = len(sign_labels)\n",
    "sign_labels = np.array(sign_labels)\n",
    "        "
   ]
  },
  {
   "cell_type": "code",
   "execution_count": 3,
   "metadata": {},
   "outputs": [],
   "source": [
    "class TrainModel:\n",
    "    def __init__(self, data_set_path, model_save_path) -> None:\n",
    "        self.data_set_path = data_set_path\n",
    "        self.model_save_path = model_save_path\n",
    "        # self.model = Sequential([\n",
    "        #     LSTM(64, return_sequences=True, activation='relu', input_shape=(21 * 2)), # TODO: may wanna check this\n",
    "        #     LSTM(128, return_sequences=True, activation='relu'),\n",
    "        #     LSTM(64, return_sequences=False, activation='relu'),\n",
    "        #     Dense(64, activation='relu'),\n",
    "        #     Dense(32, activation='relu'),\n",
    "        #     Dense(sign_labels.shape[0], activation='softmax'), # could also be the number of unique labels\n",
    "        # ])\n",
    "\n",
    "        self.model = Sequential([\n",
    "            Input((21 * 2, )),\n",
    "            Dropout(0.2),\n",
    "            Dense(20, activation='relu'),\n",
    "            Dropout(0.4),\n",
    "            Dense(10, activation='relu'),\n",
    "            Dense(NUM_CLASSES, activation='softmax')\n",
    "        ])\n",
    "    \n",
    "    def load_data_set(self):\n",
    "        X_data = np.loadtxt(self.data_set_path, delimiter=',', dtype='float32', usecols=list(range(1, (21 * 2) + 1)))\n",
    "        y_data = np.loadtxt(self.data_set_path, delimiter=',', dtype='int32', usecols=(0))\n",
    "        \n",
    "        return train_test_split(X_data, y_data, test_size=0.2, random_state=42)\n",
    "    \n",
    "    def save_model(self):\n",
    "        self.model.save(self.model_save_path)"
   ]
  },
  {
   "cell_type": "code",
   "execution_count": 4,
   "metadata": {},
   "outputs": [
    {
     "ename": "NameError",
     "evalue": "name 'NUM_CLASSES' is not defined",
     "output_type": "error",
     "traceback": [
      "\u001b[0;31m---------------------------------------------------------------------------\u001b[0m",
      "\u001b[0;31mNameError\u001b[0m                                 Traceback (most recent call last)",
      "Cell \u001b[0;32mIn[4], line 4\u001b[0m\n\u001b[1;32m      1\u001b[0m data_set_path \u001b[38;5;241m=\u001b[39m \u001b[38;5;124m'\u001b[39m\u001b[38;5;124m./data_set.csv\u001b[39m\u001b[38;5;124m'\u001b[39m\n\u001b[1;32m      2\u001b[0m model_save_path \u001b[38;5;241m=\u001b[39m \u001b[38;5;124m'\u001b[39m\u001b[38;5;124m./models/model.h5\u001b[39m\u001b[38;5;124m'\u001b[39m\n\u001b[0;32m----> 4\u001b[0m Model \u001b[38;5;241m=\u001b[39m \u001b[43mTrainModel\u001b[49m\u001b[43m(\u001b[49m\u001b[43mdata_set_path\u001b[49m\u001b[43m,\u001b[49m\u001b[43m \u001b[49m\u001b[43mmodel_save_path\u001b[49m\u001b[43m)\u001b[49m\n\u001b[1;32m      6\u001b[0m X_train, X_test, y_train, y_test \u001b[38;5;241m=\u001b[39m Model\u001b[38;5;241m.\u001b[39mload_data_set()\n",
      "Cell \u001b[0;32mIn[3], line 20\u001b[0m, in \u001b[0;36mTrainModel.__init__\u001b[0;34m(self, data_set_path, model_save_path)\u001b[0m\n\u001b[1;32m      4\u001b[0m \u001b[38;5;28mself\u001b[39m\u001b[38;5;241m.\u001b[39mmodel_save_path \u001b[38;5;241m=\u001b[39m model_save_path\n\u001b[1;32m      5\u001b[0m \u001b[38;5;66;03m# self.model = Sequential([\u001b[39;00m\n\u001b[1;32m      6\u001b[0m \u001b[38;5;66;03m#     LSTM(64, return_sequences=True, activation='relu', input_shape=(21 * 2)), # TODO: may wanna check this\u001b[39;00m\n\u001b[1;32m      7\u001b[0m \u001b[38;5;66;03m#     LSTM(128, return_sequences=True, activation='relu'),\u001b[39;00m\n\u001b[0;32m   (...)\u001b[0m\n\u001b[1;32m     11\u001b[0m \u001b[38;5;66;03m#     Dense(sign_labels.shape[0], activation='softmax'), # could also be the number of unique labels\u001b[39;00m\n\u001b[1;32m     12\u001b[0m \u001b[38;5;66;03m# ])\u001b[39;00m\n\u001b[1;32m     14\u001b[0m \u001b[38;5;28mself\u001b[39m\u001b[38;5;241m.\u001b[39mmodel \u001b[38;5;241m=\u001b[39m Sequential([\n\u001b[1;32m     15\u001b[0m     Input((\u001b[38;5;241m21\u001b[39m \u001b[38;5;241m*\u001b[39m \u001b[38;5;241m2\u001b[39m, )),\n\u001b[1;32m     16\u001b[0m     Dropout(\u001b[38;5;241m0.2\u001b[39m),\n\u001b[1;32m     17\u001b[0m     Dense(\u001b[38;5;241m20\u001b[39m, activation\u001b[38;5;241m=\u001b[39m\u001b[38;5;124m'\u001b[39m\u001b[38;5;124mrelu\u001b[39m\u001b[38;5;124m'\u001b[39m),\n\u001b[1;32m     18\u001b[0m     Dropout(\u001b[38;5;241m0.4\u001b[39m),\n\u001b[1;32m     19\u001b[0m     Dense(\u001b[38;5;241m10\u001b[39m, activation\u001b[38;5;241m=\u001b[39m\u001b[38;5;124m'\u001b[39m\u001b[38;5;124mrelu\u001b[39m\u001b[38;5;124m'\u001b[39m),\n\u001b[0;32m---> 20\u001b[0m     Dense(\u001b[43mNUM_CLASSES\u001b[49m, activation\u001b[38;5;241m=\u001b[39m\u001b[38;5;124m'\u001b[39m\u001b[38;5;124msoftmax\u001b[39m\u001b[38;5;124m'\u001b[39m)\n\u001b[1;32m     21\u001b[0m ])\n",
      "\u001b[0;31mNameError\u001b[0m: name 'NUM_CLASSES' is not defined"
     ]
    }
   ],
   "source": [
    "data_set_path = './data_set.csv'\n",
    "model_save_path = './models/model.h5'\n",
    "\n",
    "Model = TrainModel(data_set_path, model_save_path)\n",
    "\n",
    "X_train, X_test, y_train, y_test = Model.load_data_set()"
   ]
  },
  {
   "cell_type": "code",
   "execution_count": null,
   "metadata": {},
   "outputs": [],
   "source": [
    "Model.model.summary()"
   ]
  },
  {
   "cell_type": "code",
   "execution_count": null,
   "metadata": {},
   "outputs": [],
   "source": [
    "checkpoint = ModelCheckpoint(Model.model_save_path, verbose=1, save_weights_only=False) # what is this ?\n",
    "early_stopping = EarlyStopping(patience=20, verbose=1) # what is this ?\n",
    "tensor_board = TensorBoard(log_dir='./logs', histogram_freq=1)"
   ]
  },
  {
   "cell_type": "code",
   "execution_count": null,
   "metadata": {},
   "outputs": [],
   "source": [
    "Model.model.compile(\n",
    "    optimizer='adam',\n",
    "    loss='sparse_categorical_crossentropy', # diff between this and categorical_crossentropy\n",
    "    metrics=['accuracy'] # diff between this and categorical_accuracy\n",
    ")"
   ]
  },
  {
   "cell_type": "code",
   "execution_count": null,
   "metadata": {},
   "outputs": [],
   "source": [
    "Model.model.fit(\n",
    "    X_train,\n",
    "    y_train,\n",
    "    epochs=1000,\n",
    "    batch_size=64,\n",
    "    validation_data=(X_test, y_test),\n",
    "    callbacks=[tensor_board, checkpoint, early_stopping]\n",
    ")"
   ]
  },
  {
   "cell_type": "code",
   "execution_count": null,
   "metadata": {},
   "outputs": [],
   "source": [
    "val_loss, val_acc = Model.model.evaluate(X_test, y_test, batch_size=64)"
   ]
  },
  {
   "cell_type": "code",
   "execution_count": null,
   "metadata": {},
   "outputs": [],
   "source": [
    "Model.save_model()"
   ]
  }
 ],
 "metadata": {
  "kernelspec": {
   "display_name": "Python 3 (ipykernel)",
   "language": "python",
   "name": "python3"
  },
  "language_info": {
   "codemirror_mode": {
    "name": "ipython",
    "version": 3
   },
   "file_extension": ".py",
   "mimetype": "text/x-python",
   "name": "python",
   "nbconvert_exporter": "python",
   "pygments_lexer": "ipython3",
   "version": "3.10.13"
  }
 },
 "nbformat": 4,
 "nbformat_minor": 4
}
