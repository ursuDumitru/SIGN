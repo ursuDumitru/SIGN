{
 "cells": [
  {
   "cell_type": "code",
   "execution_count": null,
   "metadata": {},
   "outputs": [],
   "source": [
    "import numpy as np\n",
    "\n",
    "from sklearn.model_selection import train_test_split\n",
    "from keras.utils import to_categorical\n",
    "\n",
    "from keras.models import Sequential\n",
    "from keras.layers import LSTM, Dense\n",
    "from keras.callbacks import TensorBoard, ModelCheckpoint, EarlyStopping"
   ]
  },
  {
   "cell_type": "code",
   "execution_count": null,
   "metadata": {},
   "outputs": [],
   "source": [
    "sign_labels = []\n",
    "with open('./sign_labels.csv', 'r') as file:\n",
    "    sign_labels = file.read().splitlines()\n",
    "file.close()\n",
    "\n",
    "sign_labels = np.array(sign_labels)\n",
    "        "
   ]
  },
  {
   "cell_type": "code",
   "execution_count": null,
   "metadata": {},
   "outputs": [],
   "source": [
    "class TrainModel:\n",
    "    def __init__(self, data_set_path, model_save_path) -> None:\n",
    "        self.data_set_path = data_set_path\n",
    "        self.model_save_path = model_save_path\n",
    "        self.model = Sequential([\n",
    "            LSTM(64, return_sequences=True, activation='relu', input_shape=(21 * 2, )), # TODO: may wanna check this\n",
    "            LSTM(128, return_sequences=True, activation='relu'),\n",
    "            LSTM(64, return_sequences=False, activation='relu'),\n",
    "            Dense(64, activation='relu'),\n",
    "            Dense(32, activation='relu'),\n",
    "            Dense(sign_labels.shape[0], activation='softmax'), # could also be the number of unique labels\n",
    "        ])\n",
    "    \n",
    "    def load_data_set(self):\n",
    "        X_data = np.loadtxt(self.data_set_path, delimiter=',', dtype='float32', usecols=list(range(1, (21 * 2) + 1)))\n",
    "        y_data = np.loadtxt(self.data_set_path, delimiter=',', dtype='int32', usecols=(0))\n",
    "        \n",
    "        return train_test_split(X_data, y_data, test_size=0.2, random_state=42)\n",
    "    \n",
    "    def save_model(self):\n",
    "        self.model.save(self.model_save_path)"
   ]
  },
  {
   "cell_type": "code",
   "execution_count": null,
   "metadata": {},
   "outputs": [],
   "source": [
    "data_set_path = './data_set.csv'\n",
    "model_save_path = './models/model.h5'\n",
    "\n",
    "Model = TrainModel(data_set_path, model_save_path)\n",
    "\n",
    "X_train, X_test, y_train, y_test = Model.load_data_set()"
   ]
  },
  {
   "cell_type": "code",
   "execution_count": null,
   "metadata": {},
   "outputs": [],
   "source": [
    "Model.model.summary()"
   ]
  },
  {
   "cell_type": "code",
   "execution_count": null,
   "metadata": {},
   "outputs": [],
   "source": [
    "checkpoint = ModelCheckpoint(Model.model_save_path, verbose=1, save_weights_only=False) # what is this ?\n",
    "early_stopping = EarlyStopping(patience=20, verbose=1) # what is this ?\n",
    "tensor_board = TensorBoard(log_dir='./logs', histogram_freq=1)"
   ]
  },
  {
   "cell_type": "code",
   "execution_count": null,
   "metadata": {},
   "outputs": [],
   "source": [
    "Model.model.compile(\n",
    "    optimizer='adam',\n",
    "    loss='sparse_categorical_crossentropy', # diff between this and categorical_crossentropy\n",
    "    metrics=['accuracy'] # diff between this and categorical_accuracy\n",
    ")"
   ]
  },
  {
   "cell_type": "code",
   "execution_count": null,
   "metadata": {},
   "outputs": [],
   "source": [
    "Model.model.fit(\n",
    "    X_train,\n",
    "    y_train,\n",
    "    epochs=1000,\n",
    "    batch_size=64,\n",
    "    validation_data=(X_test, y_test),\n",
    "    callbacks=[tensor_board, checkpoint, early_stopping]\n",
    ")"
   ]
  },
  {
   "cell_type": "code",
   "execution_count": null,
   "metadata": {},
   "outputs": [],
   "source": [
    "val_loss, val_acc = Model.model.evaluate(X_test, y_test, batch_size=64)"
   ]
  },
  {
   "cell_type": "code",
   "execution_count": null,
   "metadata": {},
   "outputs": [],
   "source": [
    "Model.save_model()"
   ]
  }
 ],
 "metadata": {
  "language_info": {
   "name": "python"
  }
 },
 "nbformat": 4,
 "nbformat_minor": 2
}
