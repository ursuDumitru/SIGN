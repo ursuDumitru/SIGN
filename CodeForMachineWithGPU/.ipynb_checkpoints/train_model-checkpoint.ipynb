{
 "cells": [
  {
   "cell_type": "markdown",
   "id": "2b33ec76-0a39-4d4d-aa72-cdcd3071b6ba",
   "metadata": {},
   "source": [
    "# 1. Separate into different sections when code is ready"
   ]
  },
  {
   "cell_type": "code",
   "execution_count": 7,
   "id": "ece9f3be-7b6d-4d7b-9c85-b9ef46c5e0c3",
   "metadata": {},
   "outputs": [],
   "source": [
    "import numpy as np\n",
    "import os\n",
    "# import what is needed, test what is the type difference between label_map, actions and labels form main code"
   ]
  },
  {
   "cell_type": "code",
   "execution_count": 14,
   "id": "546ed834-0da1-4bc9-aa2a-073f6b9418da",
   "metadata": {},
   "outputs": [],
   "source": [
    "class DataManipulation:\n",
    "\n",
    "    # also make sure where this is called from\n",
    "    MEDIAPIPE_DATA_PATH = os.path.join('../CodeForMachineWithCamera/Data') # TODO: make sure to name the folder 'Data'\n",
    "    SIGN_LABELS = np.array(['hello', 'yes', 'no'])\n",
    "    NUMBER_OF_SEQUENCES = 30\n",
    "    SEQUENCE_LENGTH = 30\n",
    "\n",
    "    # TODO: test once code is ready\n",
    "    # label_map = {label:num for num, label in enumerate(SIGN_LABELS)}\n",
    "\n",
    "    @staticmethod\n",
    "    def create_data_set(self):\n",
    "        sequences, labels = [], []\n",
    "        for sign in SIGN_LABELS:\n",
    "            for sequence in range(NUMBER_OF_SEQUENCES):\n",
    "                frame = []\n",
    "                for frame_number in range(SEQUENCE_LENGTH):\n",
    "                    frame.append(\n",
    "                        np.load(os.path.join(MEDIAPIPE_DATA_PATH,\n",
    "                                             sign,\n",
    "                                             str(sequence),\n",
    "                                             \"{}.npy\".format(frame_number))))\n",
    "                sequences.append(frame)\n",
    "                labels.append(np.where(SIGN_LABELS == sign)[0][0])\n",
    "                # TODO: test once code is ready\n",
    "                # LABELS.append(label_map[sign])\n",
    "\n",
    "        X = np.array(sequences)\n",
    "        y = to_categorical(labels).astype(int)\n",
    "\n",
    "        return train_test_split(X, y, test_size=0.05) # may wanna play with this size"
   ]
  },
  {
   "cell_type": "code",
   "execution_count": null,
   "id": "5136d3a4-1176-4946-83d5-d87389cf643d",
   "metadata": {},
   "outputs": [],
   "source": [
    "class Model:\n",
    "    # put this in the same directory with the model dir\n",
    "    LOG_DIR = os.path.join('Logs')\n",
    "    CALLBACK = TensorBoard(log_dir=LOG_DIR)"
   ]
  },
  {
   "cell_type": "code",
   "execution_count": 15,
   "id": "c109a7dc-f8d2-4ef4-b42f-ff4d2031b06d",
   "metadata": {},
   "outputs": [
    {
     "name": "stdout",
     "output_type": "stream",
     "text": [
      "label_map:\n",
      "<class 'dict'>\n",
      "{'hello': 0, 'yes': 1, 'no': 2}\n",
      "\n",
      "actions:\n",
      "<class 'numpy.ndarray'>\n",
      "['hello' 'yes' 'no']\n",
      "\n",
      "labels:\n",
      "<class 'list'>\n",
      "[]\n"
     ]
    }
   ],
   "source": [
    "print('label_map:')\n",
    "print(type(DataManipulation.label_map))\n",
    "print(DataManipulation.label_map)\n",
    "print('\\nactions:')\n",
    "print(type(DataManipulation.SIGN_LABELS))\n",
    "print(DataManipulation.SIGN_LABELS)\n",
    "print('\\nlabels:')\n",
    "print(type(DataManipulation.LABELS))\n",
    "print(DataManipulation.LABELS)"
   ]
  },
  {
   "cell_type": "code",
   "execution_count": null,
   "id": "e895a20e-c84f-4309-93cc-19992a640977",
   "metadata": {},
   "outputs": [],
   "source": []
  },
  {
   "cell_type": "code",
   "execution_count": null,
   "id": "79278db0-0e84-4961-ac22-252c75941501",
   "metadata": {},
   "outputs": [],
   "source": []
  }
 ],
 "metadata": {
  "kernelspec": {
   "display_name": "Python 3 (ipykernel)",
   "language": "python",
   "name": "python3"
  },
  "language_info": {
   "codemirror_mode": {
    "name": "ipython",
    "version": 3
   },
   "file_extension": ".py",
   "mimetype": "text/x-python",
   "name": "python",
   "nbconvert_exporter": "python",
   "pygments_lexer": "ipython3",
   "version": "3.10.13"
  }
 },
 "nbformat": 4,
 "nbformat_minor": 5
}
