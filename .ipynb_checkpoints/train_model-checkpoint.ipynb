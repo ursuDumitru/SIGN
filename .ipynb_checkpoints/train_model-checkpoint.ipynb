{
 "cells": [
  {
   "cell_type": "code",
   "execution_count": 1,
   "metadata": {},
   "source": [
    "import numpy as np\n",
    "\n",
    "from sklearn.model_selection import train_test_split\n",
    "from keras.utils import to_categorical\n",
    "\n",
    "from keras.models import Sequential\n",
    "from keras.layers import LSTM, Dense, Dropout, Input\n",
    "from keras.callbacks import TensorBoard, ModelCheckpoint, EarlyStopping"
   ],
   "outputs": []
  },
  {
   "cell_type": "code",
   "execution_count": 3,
   "metadata": {},
   "source": [
    "class Model:\n",
    "    def __init__(self, sign_labels_file_path, data_set_path, model_save_path) -> None:\n",
    "        self.data_set_path = data_set_path\n",
    "        self.model_save_path = model_save_path\n",
    "        self.sign_labels = self.get_sign_labels(sign_labels_file_path)\n",
    "\n",
    "        self.model = Sequential([\n",
    "            Input((21 * 2, )), # TODO: cannot be fused with the following layer\n",
    "            Dropout(0.2),\n",
    "            Dense(20, activation='relu'),\n",
    "            Dropout(0.4),\n",
    "            Dense(10, activation='relu'),\n",
    "            Dense(len(self.sign_labels), activation='softmax') # experiment with different activation functions\n",
    "        ])\n",
    "    \n",
    "    def get_sign_labels(sign_labels_file_path):\n",
    "                # check if file exists\n",
    "        try:\n",
    "            with open(sign_labels_file_path, 'r') as file:\n",
    "                pass\n",
    "        except FileNotFoundError:\n",
    "            print(f'File : [{sign_labels_file_path}] not found!') # TODO: accentuate the file path in the other file too\n",
    "            exit(1) # FIXME: maybe handle this better ?\n",
    "\n",
    "        sign_labels = []\n",
    "        with open(sign_labels_file_path, 'r') as file:\n",
    "            sign_labels = file.read().splitlines()\n",
    "        file.close()\n",
    "\n",
    "        return np.array(sign_labels)\n",
    "                \n",
    "    \n",
    "    def load_data_set(self):\n",
    "        # TODO: see how you can change these\n",
    "        X_data = np.loadtxt(self.data_set_path, delimiter=',', dtype='float32', usecols=list(range(1, (21 * 2) + 1)))\n",
    "        y_data = np.loadtxt(self.data_set_path, delimiter=',', dtype='int32', usecols=(0))\n",
    "        \n",
    "        return train_test_split(X_data, y_data, test_size=0.2, random_state=42)\n",
    "    \n",
    "    def save_model(self):\n",
    "        self.model.save(self.model_save_path)"
   ],
   "outputs": []
  },
  {
   "cell_type": "code",
   "execution_count": 1,
   "metadata": {},
   "source": [
    "!pwd"
   ],
   "outputs": []
  },
  {
   "cell_type": "code",
   "execution_count": 4,
   "metadata": {},
   "source": [
    "model = Model(\n",
    "    sign_labels_file_path = './data/sign_lables2',\n",
    "    data_set_path = './data/data_set2.csv', # may need to change the path\n",
    "    model_save_path = './models/model.h5'\n",
    "    )\n",
    "\n",
    "X_train, X_test, y_train, y_test = model.load_data_set()"
   ],
   "outputs": []
  },
  {
   "cell_type": "code",
   "execution_count": 5,
   "metadata": {},
   "source": [
    "model.model.summary()"
   ],
   "outputs": []
  },
  {
   "cell_type": "code",
   "execution_count": 6,
   "metadata": {},
   "source": [
    "checkpoint = ModelCheckpoint(model.model_save_path, verbose=1, save_weights_only=False) # what is this ?\n",
    "early_stopping = EarlyStopping(patience=20, verbose=1) # what is this ?\n",
    "tensor_board = TensorBoard(log_dir='./logs', histogram_freq=1) # what is this ?"
   ],
   "outputs": []
  },
  {
   "cell_type": "code",
   "execution_count": 7,
   "metadata": {},
   "source": [
    "model.model.compile(\n",
    "    optimizer='adam',\n",
    "    loss='sparse_categorical_crossentropy', # diff between this and categorical_crossentropy\n",
    "    metrics=['accuracy'] # diff between this and categorical_accuracy\n",
    ")"
   ],
   "outputs": []
  },
  {
   "cell_type": "code",
   "execution_count": 8,
   "metadata": {},
   "source": [
    "model.model.fit(\n",
    "    X_train,\n",
    "    y_train,\n",
    "    epochs=1000,\n",
    "    batch_size=64,\n",
    "    validation_data=(X_test, y_test),\n",
    "    callbacks=[tensor_board, checkpoint, early_stopping]\n",
    ")"
   ],
   "outputs": []
  },
  {
   "cell_type": "code",
   "execution_count": 9,
   "metadata": {},
   "source": [
    "val_loss, val_acc = model.model.evaluate(X_test, y_test, batch_size=64)"
   ],
   "outputs": []
  },
  {
   "cell_type": "code",
   "execution_count": 10,
   "metadata": {},
   "source": [
    "model.save_model()"
   ],
   "outputs": []
  },
  {
   "cell_type": "code",
   "execution_count": null,
   "metadata": {},
   "source": [
    "# TODO:\n",
    "# rewrite the existing class and add new ones\n",
    "# plot data\n",
    "# experiment with different models(diff layers, diff activation functions, diff optimizers, diff loss functions, diff metrics, etc)\n",
    "# plot training and validation loss and accuracy\n",
    "# make this code better"
   ],
   "outputs": []
  }
 ],
 "metadata": {
  "kernelspec": {
   "display_name": "Python 3 (ipykernel)",
   "language": "python",
   "name": "python3"
  },
  "language_info": {
   "codemirror_mode": {
    "name": "ipython",
    "version": 3
   },
   "file_extension": ".py",
   "mimetype": "text/x-python",
   "name": "python",
   "nbconvert_exporter": "python",
   "pygments_lexer": "ipython3",
   "version": "3.10.13"
  }
 },
 "nbformat": 4,
 "nbformat_minor": 4
}
